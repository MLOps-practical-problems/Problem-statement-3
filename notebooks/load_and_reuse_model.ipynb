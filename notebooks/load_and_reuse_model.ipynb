{
 "cells": [
  {
   "cell_type": "markdown",
   "id": "fcfbe3c8",
   "metadata": {},
   "source": [
    "### Saving and Reusing a Machine Learning Model"
   ]
  },
  {
   "cell_type": "code",
   "execution_count": 1,
   "id": "4d2b91fd",
   "metadata": {},
   "outputs": [],
   "source": [
    "import joblib\n",
    "import numpy as np"
   ]
  },
  {
   "cell_type": "markdown",
   "id": "bffd06c4",
   "metadata": {},
   "source": [
    "#### Loading Model and Scaler"
   ]
  },
  {
   "cell_type": "code",
   "execution_count": 2,
   "id": "c232336c",
   "metadata": {},
   "outputs": [],
   "source": [
    "model = joblib.load(\"../models/saved_model.pkl\")\n",
    "scaler = joblib.load(\"../models/scaler.pkl\")"
   ]
  },
  {
   "cell_type": "code",
   "execution_count": 3,
   "id": "a5f99649",
   "metadata": {},
   "outputs": [],
   "source": [
    "new_sample = np.array([[5.1, 3.5, 1.4, 0.2]])"
   ]
  },
  {
   "cell_type": "code",
   "execution_count": 4,
   "id": "37f249cd",
   "metadata": {},
   "outputs": [],
   "source": [
    "new_sample_scaled = scaler.transform(new_sample)"
   ]
  },
  {
   "cell_type": "code",
   "execution_count": 5,
   "id": "5e8d452d",
   "metadata": {},
   "outputs": [],
   "source": [
    "predicted_class = model.predict(new_sample_scaled)\n",
    "predicted_proba = model.predict_proba(new_sample_scaled)"
   ]
  },
  {
   "cell_type": "code",
   "execution_count": null,
   "id": "6584237e",
   "metadata": {},
   "outputs": [
    {
     "name": "stdout",
     "output_type": "stream",
     "text": [
      "Predicted Class: 0\n",
      "Class Probabilities: [9.79218943e-01 2.07808883e-02 1.68378361e-07]\n"
     ]
    }
   ],
   "source": [
    "print(f\"Predicted Class: {predicted_class[0]}\")\n",
    "print(f\"Class Probabilities: {predicted_proba[0]}\")"
   ]
  },
  {
   "cell_type": "code",
   "execution_count": 7,
   "id": "4d6986f9",
   "metadata": {},
   "outputs": [
    {
     "name": "stdout",
     "output_type": "stream",
     "text": [
      "Predicted Flower Type: setosa\n"
     ]
    }
   ],
   "source": [
    "target_mapping = {0: \"setosa\", 1: \"versicolor\", 2: \"virginica\"}\n",
    "print(f\"Predicted Flower Type: {target_mapping[predicted_class[0]]}\")"
   ]
  },
  {
   "cell_type": "code",
   "execution_count": null,
   "id": "12a05d93",
   "metadata": {},
   "outputs": [],
   "source": []
  }
 ],
 "metadata": {
  "kernelspec": {
   "display_name": "Python 3",
   "language": "python",
   "name": "python3"
  },
  "language_info": {
   "codemirror_mode": {
    "name": "ipython",
    "version": 3
   },
   "file_extension": ".py",
   "mimetype": "text/x-python",
   "name": "python",
   "nbconvert_exporter": "python",
   "pygments_lexer": "ipython3",
   "version": "3.10.0"
  }
 },
 "nbformat": 4,
 "nbformat_minor": 5
}
